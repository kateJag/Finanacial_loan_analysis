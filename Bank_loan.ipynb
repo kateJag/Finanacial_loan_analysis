{
 "cells": [
  {
   "cell_type": "code",
   "execution_count": 6,
   "metadata": {},
   "outputs": [],
   "source": [
    "import pandas as pd\n",
    "import matplotlib.pyplot as plt\n",
    "import seaborn as sns\n",
    "import mysql.connector\n",
    "import mysql.connector\n",
    "import numpy as np\n",
    "import os\n",
    "\n",
    "conn = mysql.connector.connect(host = \"localhost\",\n",
    "                            username = \"codebind\",\n",
    "                            password = \"58623\",\n",
    "                            database = \"bank_loan_db\")\n",
    "\n",
    "cursor = conn.cursor()"
   ]
  },
  {
   "cell_type": "markdown",
   "metadata": {},
   "source": [
    "# DASHBOARD#1 SUMMARY\n",
    "# KPI's \n",
    "\n",
    "### Total Loan Applications"
   ]
  },
  {
   "cell_type": "code",
   "execution_count": null,
   "metadata": {},
   "outputs": [],
   "source": [
    "query = '''\n",
    "SELECT COUNT(id) AS Total_Applications\n",
    "FROM fin_loan; \n",
    "'''\n",
    "\n",
    "tla_df= pd.read_sql(query,conn)\n",
    "tla_df"
   ]
  },
  {
   "cell_type": "markdown",
   "metadata": {},
   "source": [
    "### MONTH to DAY Loan Applications\n"
   ]
  },
  {
   "cell_type": "code",
   "execution_count": null,
   "metadata": {},
   "outputs": [],
   "source": [
    "query = '''\n",
    "SELECT COUNT(id) AS MTD_Total_Applications\n",
    "FROM fin_loan\n",
    "WHERE MONTH(issue_date)=12 AND YEAR(issue_date) = 2021\n",
    "'''\n",
    "\n",
    "mtd_df= pd.read_sql(query,conn)\n",
    "mtd_df"
   ]
  },
  {
   "cell_type": "markdown",
   "metadata": {},
   "source": [
    "### PMTD Loan Applications"
   ]
  },
  {
   "cell_type": "code",
   "execution_count": null,
   "metadata": {},
   "outputs": [],
   "source": [
    "query = '''\n",
    "SELECT COUNT(id) AS PMTD_Total_Applications\n",
    "FROM fin_loan\n",
    "WHERE MONTH(issue_date)=11 AND YEAR(issue_date) = 2021\n",
    "'''\n",
    "\n",
    "pmtd_df= pd.read_sql(query,conn)\n",
    "pmtd_df"
   ]
  },
  {
   "cell_type": "markdown",
   "metadata": {},
   "source": [
    "# Total Funded Amount"
   ]
  },
  {
   "cell_type": "code",
   "execution_count": null,
   "metadata": {},
   "outputs": [],
   "source": [
    "query = '''\n",
    "SELECT SUM(loan_amount) AS Total_Funded_Amount \n",
    "FROM fin_loan;\n",
    "'''\n",
    "\n",
    "tfa_df= pd.read_sql(query,conn)\n",
    "tfa_df"
   ]
  },
  {
   "cell_type": "markdown",
   "metadata": {},
   "source": [
    "### Month and to DAY Total Funded Amount"
   ]
  },
  {
   "cell_type": "code",
   "execution_count": null,
   "metadata": {},
   "outputs": [],
   "source": [
    "query = '''\n",
    "SELECT SUM(loan_amount) AS Total_Funded_Amount \n",
    "FROM fin_loan\n",
    "WHERE MONTH(issue_date) = 12 AND YEAR(issue_date) = 2021;\n",
    "'''\n",
    "\n",
    "mtd_tfa_df= pd.read_sql(query,conn)\n",
    "mtd_tfa_df"
   ]
  },
  {
   "cell_type": "markdown",
   "metadata": {},
   "source": [
    "### Previous Month and to DAY Total Funded Amount"
   ]
  },
  {
   "cell_type": "code",
   "execution_count": null,
   "metadata": {},
   "outputs": [],
   "source": [
    "query = '''\n",
    "SELECT SUM(loan_amount) AS Previous_Total_Funded_Amount \n",
    "FROM fin_loan\n",
    "WHERE MONTH(issue_date) = 11 AND YEAR(issue_date) = 2021;\n",
    "'''\n",
    "\n",
    "pmtd_tfa_df= pd.read_sql(query,conn)\n",
    "pmtd_tfa_df"
   ]
  },
  {
   "cell_type": "markdown",
   "metadata": {},
   "source": [
    "# Total Amount Received"
   ]
  },
  {
   "cell_type": "code",
   "execution_count": null,
   "metadata": {},
   "outputs": [],
   "source": [
    "query = '''\n",
    "SELECT SUM(total_payment) AS Total_Amount_Received \n",
    "FROM fin_loan;\n",
    "'''\n",
    "\n",
    "tar_df= pd.read_sql(query,conn)\n",
    "tar_df"
   ]
  },
  {
   "cell_type": "markdown",
   "metadata": {},
   "source": [
    "### Month and to DAY Total Funded Amount"
   ]
  },
  {
   "cell_type": "code",
   "execution_count": null,
   "metadata": {},
   "outputs": [],
   "source": [
    "query = '''\n",
    "SELECT SUM(total_payment) AS MTD_Total_Amount_Received \n",
    "FROM fin_loan\n",
    "WHERE MONTH(issue_date)=12  AND YEAR(issue_date)=2021;\n",
    "'''\n",
    "\n",
    "mtd_tar_df= pd.read_sql(query,conn)\n",
    "mtd_tar_df"
   ]
  },
  {
   "cell_type": "markdown",
   "metadata": {},
   "source": [
    "### Previous Month and to DAY Total Funded Amount"
   ]
  },
  {
   "cell_type": "code",
   "execution_count": null,
   "metadata": {},
   "outputs": [],
   "source": [
    "query = '''\n",
    "SELECT SUM(total_payment) AS PMTD_Total_Amount_Received \n",
    "FROM fin_loan\n",
    "WHERE MONTH(issue_date)=11  AND YEAR(issue_date)=2021;\n",
    "'''\n",
    "\n",
    "pmtd_tar_df= pd.read_sql(query,conn)\n",
    "pmtd_tar_df"
   ]
  },
  {
   "cell_type": "markdown",
   "metadata": {},
   "source": [
    "# Average Interest Rate"
   ]
  },
  {
   "cell_type": "code",
   "execution_count": null,
   "metadata": {},
   "outputs": [],
   "source": [
    "query = '''\n",
    "SELECT ROUND(AVG(int_rate),4)*100 AS Average_interest_rate\n",
    "FROM fin_loan;\n",
    "'''\n",
    "\n",
    "avg_inr_rate_df= pd.read_sql(query,conn)\n",
    "avg_inr_rate_df"
   ]
  },
  {
   "cell_type": "markdown",
   "metadata": {},
   "source": [
    "### Month to Date Average interest Rate"
   ]
  },
  {
   "cell_type": "code",
   "execution_count": null,
   "metadata": {},
   "outputs": [],
   "source": [
    "query = '''\n",
    "SELECT ROUND(AVG(int_rate), 4) *100 AS PMTD_Average_interest_rate\n",
    "FROM fin_loan\n",
    "WHERE MONTH(issue_date)=12 AND YEAR(issue_date)=2021;\n",
    "'''\n",
    "\n",
    "mtd_avg_inr_rate_df= pd.read_sql(query,conn)\n",
    "mtd_avg_inr_rate_df"
   ]
  },
  {
   "cell_type": "markdown",
   "metadata": {},
   "source": [
    "### Previous Month to Date Average interest Rate"
   ]
  },
  {
   "cell_type": "code",
   "execution_count": null,
   "metadata": {},
   "outputs": [],
   "source": [
    "query = '''\n",
    "SELECT ROUND(AVG(int_rate), 4) *100 AS PMTD_Average_interest_rate\n",
    "FROM fin_loan\n",
    "WHERE MONTH(issue_date)=11 AND YEAR(issue_date)=2021;\n",
    "'''\n",
    "\n",
    "pmtd_avg_inr_rate_df= pd.read_sql(query,conn)\n",
    "pmtd_avg_inr_rate_df"
   ]
  },
  {
   "cell_type": "markdown",
   "metadata": {},
   "source": [
    "# Average Dept-to-Income Ratio"
   ]
  },
  {
   "cell_type": "code",
   "execution_count": null,
   "metadata": {},
   "outputs": [],
   "source": [
    "query = '''\n",
    "SELECT ROUND(AVG(dti),4) *100 AS AVG_dti\n",
    "FROM fin_loan;\n",
    "'''\n",
    "\n",
    "avg_dti_df= pd.read_sql(query,conn)\n",
    "avg_dti_df"
   ]
  },
  {
   "cell_type": "markdown",
   "metadata": {},
   "source": [
    "### Month to Date Average Dept-to-Income Ratio"
   ]
  },
  {
   "cell_type": "code",
   "execution_count": null,
   "metadata": {},
   "outputs": [],
   "source": [
    "query = '''\n",
    "SELECT ROUND(AVG(dti),4) *100 AS MTD_AVG_dti\n",
    "FROM fin_loan\n",
    "WHERE MONTH(issue_date) = 12 AND YEAR(issue_date)=2021;\n",
    "'''\n",
    "\n",
    "mtd_avg_dti_df= pd.read_sql(query,conn)\n",
    "mtd_avg_dti_df"
   ]
  },
  {
   "cell_type": "markdown",
   "metadata": {},
   "source": [
    "### Previous Month to Date Average Dept-to-Income Ratio"
   ]
  },
  {
   "cell_type": "code",
   "execution_count": null,
   "metadata": {},
   "outputs": [],
   "source": [
    "query = '''\n",
    "SELECT ROUND(AVG(dti),4) *100 AS PMTD_AVG_dti\n",
    "FROM fin_loan\n",
    "WHERE MONTH(issue_date) = 11 AND YEAR(issue_date)=2021;\n",
    "'''\n",
    "\n",
    "pmtd_avg_dti_df= pd.read_sql(query,conn)\n",
    "pmtd_avg_dti_df"
   ]
  },
  {
   "cell_type": "markdown",
   "metadata": {},
   "source": [
    "# Good vs Bad Loan\n",
    "\n",
    "### Good Loan Application %"
   ]
  },
  {
   "cell_type": "code",
   "execution_count": null,
   "metadata": {},
   "outputs": [],
   "source": [
    "query = '''\n",
    "SELECT \n",
    "    ROUND(\n",
    "        (COUNT(CASE WHEN loan_status = 'Fully Paid' OR loan_status = 'Current'\n",
    "             THEN id\n",
    "             END)*100.0)\n",
    "             /\n",
    "             COUNT(id), 2) AS Good_loan_percentage\n",
    "FROM fin_loan\n",
    "'''\n",
    "\n",
    "good_lp_df=pd.read_sql(query,conn)\n",
    "good_lp_df"
   ]
  },
  {
   "cell_type": "markdown",
   "metadata": {},
   "source": [
    "### Good Loan Applications"
   ]
  },
  {
   "cell_type": "code",
   "execution_count": null,
   "metadata": {},
   "outputs": [],
   "source": [
    "query = '''\n",
    "SELECT COUNT(id) AS Good_loan_applications_count FROM fin_loan \n",
    "WHERE loan_status='Fully Paid' OR loan_status = 'Current';\n",
    "'''\n",
    "count_lp_df=pd.read_sql(query,conn)\n",
    "count_lp_df"
   ]
  },
  {
   "cell_type": "markdown",
   "metadata": {},
   "source": [
    "### Good loan funded amount"
   ]
  },
  {
   "cell_type": "code",
   "execution_count": null,
   "metadata": {},
   "outputs": [],
   "source": [
    "query = '''\n",
    "SELECT SUM(loan_amount) AS Good_loan_funded_amount FROM fin_loan\n",
    "WHERE loan_status='Fully Paid' OR loan_status = 'Current';\n",
    "'''\n",
    "count_lp_df=pd.read_sql(query,conn)\n",
    "count_lp_df"
   ]
  },
  {
   "cell_type": "markdown",
   "metadata": {},
   "source": [
    "### Good loan received amount"
   ]
  },
  {
   "cell_type": "code",
   "execution_count": null,
   "metadata": {},
   "outputs": [],
   "source": [
    "query = '''\n",
    "SELECT SUM(total_payment) AS Good_loan_received_amount FROM fin_loan\n",
    "WHERE loan_status='Fully Paid' OR loan_status = 'Current';\n",
    "'''\n",
    "count_lp_df=pd.read_sql(query,conn)\n",
    "count_lp_df"
   ]
  },
  {
   "cell_type": "markdown",
   "metadata": {},
   "source": [
    "### Bad Loan Application %"
   ]
  },
  {
   "cell_type": "code",
   "execution_count": null,
   "metadata": {},
   "outputs": [],
   "source": [
    "query = '''\n",
    "SELECT \n",
    "    ROUND(\n",
    "        (COUNT(CASE WHEN loan_status = 'Charged Off' \n",
    "            THEN id\n",
    "            END)*100.0)\n",
    "            / \n",
    "            COUNT(id), 2) AS Bad_loan_percentage\n",
    "FROM fin_loan;\n",
    "'''\n",
    "bad_lp_df=pd.read_sql(query,conn)\n",
    "bad_lp_df\n",
    "\n",
    "\n"
   ]
  },
  {
   "cell_type": "markdown",
   "metadata": {},
   "source": [
    "### Bad Loan Applications"
   ]
  },
  {
   "cell_type": "code",
   "execution_count": null,
   "metadata": {},
   "outputs": [],
   "source": [
    "query = '''\n",
    "SELECT COUNT(id) AS Ban_Loan_applications FROM fin_loan\n",
    "WHERE loan_status='Charged Off';\n",
    "'''\n",
    "count_bad_lp_df=pd.read_sql(query,conn)\n",
    "count_bad_lp_df"
   ]
  },
  {
   "cell_type": "markdown",
   "metadata": {},
   "source": [
    "### Bad loan funded amount"
   ]
  },
  {
   "cell_type": "code",
   "execution_count": null,
   "metadata": {},
   "outputs": [],
   "source": [
    "query = '''\n",
    "SELECT SUM(total_payment) AS Bad_loan_received_amount FROM fin_loan\n",
    "WHERE loan_status='Charged Off';\n",
    "'''\n",
    "amount_received_badl_df=pd.read_sql(query,conn)\n",
    "amount_received_badl_df"
   ]
  },
  {
   "cell_type": "markdown",
   "metadata": {},
   "source": [
    "### Bad loan received amount"
   ]
  },
  {
   "cell_type": "code",
   "execution_count": null,
   "metadata": {},
   "outputs": [],
   "source": [
    "query = '''\n",
    "SELECT SUM(loan_amount) AS Bad_loan_funded_amount FROM fin_loan\n",
    "WHERE loan_status='Charged Off';\n",
    "'''\n",
    "amount_bad_lp_df=pd.read_sql(query,conn)\n",
    "amount_bad_lp_df"
   ]
  },
  {
   "cell_type": "markdown",
   "metadata": {},
   "source": [
    "# Loan Status Grid View"
   ]
  },
  {
   "cell_type": "code",
   "execution_count": null,
   "metadata": {},
   "outputs": [],
   "source": [
    "query = '''\n",
    "SELECT \n",
    "    loan_status,\n",
    "    COUNT(id) AS Loan_Count,\n",
    "    SUM(total_payment) AS Total_amount_Areceived,\n",
    "    SUM(loan_amount) AS Totao_amount_Funded,\n",
    "    ROUND(AVG(int_rate)*100,4) AS Interest_rate,\n",
    "    ROUND(AVG(dti)*100,4) AS DTI\n",
    "FROM fin_loan\n",
    "GROUP BY loan_status;\n",
    "'''\n",
    "grid_view_df=pd.read_sql(query,conn)\n",
    "grid_view_df"
   ]
  },
  {
   "cell_type": "markdown",
   "metadata": {},
   "source": [
    "### Month to Date Loan Status Grid View"
   ]
  },
  {
   "cell_type": "code",
   "execution_count": null,
   "metadata": {},
   "outputs": [],
   "source": [
    "query = '''\n",
    "SELECT \n",
    "    loan_status,\n",
    "    COUNT(id) AS Loan_Count,\n",
    "    SUM(total_payment) AS MTD_Total_amount_Received,\n",
    "    SUM(loan_amount) AS MTD_Total_amount_Funded\n",
    "FROM fin_loan\n",
    "WHERE MONTH(issue_date)=12\n",
    "GROUP BY loan_status\n",
    "ORDER BY MTD_Total_amount_Received DESC;\n",
    "'''\n",
    "grid_view_mtd_df=pd.read_sql(query,conn)\n",
    "grid_view_mtd_df"
   ]
  },
  {
   "cell_type": "markdown",
   "metadata": {},
   "source": [
    "### Previous Month to Date Loan Status Grid View"
   ]
  },
  {
   "cell_type": "code",
   "execution_count": null,
   "metadata": {},
   "outputs": [],
   "source": [
    "query = '''\n",
    "SELECT \n",
    "    loan_status,\n",
    "    COUNT(id) AS Loan_Count,\n",
    "    SUM(total_payment) AS PMTD_Total_amount_Received,\n",
    "    SUM(loan_amount) AS PMTD_Total_amount_Funded\n",
    "FROM fin_loan\n",
    "WHERE MONTH(issue_date)=11\n",
    "GROUP BY loan_status\n",
    "ORDER BY PMTD_Total_amount_Received DESC;\n",
    "'''\n",
    "grid_view_pmtd_df=pd.read_sql(query,conn)\n",
    "grid_view_pmtd_df"
   ]
  },
  {
   "cell_type": "markdown",
   "metadata": {},
   "source": [
    "## *DASHBOARD 2 OVERVIEW*\n",
    "# Monthly Trends by Issue Date\n",
    "\n"
   ]
  },
  {
   "cell_type": "code",
   "execution_count": null,
   "metadata": {},
   "outputs": [],
   "source": [
    "query = '''\n",
    "SELECT * FROM fin_loan\n",
    "LIMIT 10\n",
    "'''\n",
    "\n",
    "grid_view_pmtd_df=pd.read_sql(query,conn)\n",
    "grid_view_pmtd_df"
   ]
  },
  {
   "cell_type": "code",
   "execution_count": null,
   "metadata": {},
   "outputs": [],
   "source": [
    "query = '''\n",
    "SELECT \n",
    "    MONTH(issue_date) AS Month_number,\n",
    "    MONTHNAME(issue_date) AS Month_name,\n",
    "    COUNT(id) AS Total_Loan_applications,\n",
    "    SUM(loan_amount) AS Total_funded_amount,\n",
    "    SUM(total_payment) AS Total_received_amount\n",
    "FROM fin_loan\n",
    "GROUP BY Month_number, Month_name\n",
    "ORDER BY Month_number DESC;\n",
    "'''\n",
    "\n",
    "monthly_trends_df=pd.read_sql(query,conn)\n",
    "monthly_trends_df"
   ]
  },
  {
   "cell_type": "markdown",
   "metadata": {},
   "source": [
    "# Regional Analysis by State"
   ]
  },
  {
   "cell_type": "code",
   "execution_count": null,
   "metadata": {},
   "outputs": [],
   "source": [
    "query = '''\n",
    "SELECT \n",
    "    address_state,\n",
    "    COUNT(id) AS Total_Loan_applications,\n",
    "    SUM(loan_amount) AS Total_funded_amount,\n",
    "    SUM(total_payment) AS Total_received_amount\n",
    "FROM fin_loan\n",
    "GROUP BY address_state\n",
    "ORDER BY Total_funded_amount DESC;\n",
    "'''\n",
    "\n",
    "address_satte_df=pd.read_sql(query,conn)\n",
    "address_satte_df"
   ]
  },
  {
   "cell_type": "markdown",
   "metadata": {},
   "source": [
    "# Loan Term Analysis"
   ]
  },
  {
   "cell_type": "code",
   "execution_count": null,
   "metadata": {},
   "outputs": [],
   "source": [
    "query = '''\n",
    "SELECT \n",
    "    term,\n",
    "    COUNT(id) AS Total_Loan_applications,\n",
    "    SUM(loan_amount) AS Total_funded_amount,\n",
    "    SUM(total_payment) AS Total_received_amount\n",
    "FROM fin_loan\n",
    "GROUP BY term\n",
    "ORDER BY term DESC;\n",
    "'''\n",
    "\n",
    "term_df=pd.read_sql(query,conn)\n",
    "term_df"
   ]
  },
  {
   "cell_type": "markdown",
   "metadata": {},
   "source": [
    "# Employee Length Analysis"
   ]
  },
  {
   "cell_type": "code",
   "execution_count": null,
   "metadata": {},
   "outputs": [],
   "source": [
    "query = '''\n",
    "SELECT \n",
    "    emp_length,\n",
    "    COUNT(id) AS Total_Loan_applications,\n",
    "    SUM(loan_amount) AS Total_funded_amount,\n",
    "    SUM(total_payment) AS Total_received_amount\n",
    "FROM fin_loan\n",
    "GROUP BY emp_length\n",
    "ORDER BY Total_funded_amount DESC;\n",
    "'''\n",
    "\n",
    "emp_length_df=pd.read_sql(query,conn)\n",
    "emp_length_df"
   ]
  },
  {
   "cell_type": "markdown",
   "metadata": {},
   "source": [
    "# Loan Puepose Breakdown"
   ]
  },
  {
   "cell_type": "code",
   "execution_count": null,
   "metadata": {},
   "outputs": [],
   "source": [
    "query = '''\n",
    "SELECT \n",
    "    purpose,\n",
    "    COUNT(id) AS Total_Loan_applications,\n",
    "    SUM(loan_amount) AS Total_funded_amount,\n",
    "    SUM(total_payment) AS Total_received_amount\n",
    "FROM fin_loan\n",
    "GROUP BY purpose\n",
    "ORDER BY Total_Loan_applications DESC;\n",
    "'''\n",
    "\n",
    "purpose_df=pd.read_sql(query,conn)\n",
    "purpose_df"
   ]
  },
  {
   "cell_type": "markdown",
   "metadata": {},
   "source": [
    "# Home Ownership Analysis"
   ]
  },
  {
   "cell_type": "code",
   "execution_count": null,
   "metadata": {},
   "outputs": [],
   "source": [
    "query = '''\n",
    "SELECT \n",
    "    home_ownership,\n",
    "    COUNT(id) AS Total_Loan_applications,\n",
    "    SUM(loan_amount) AS Total_funded_amount,\n",
    "    SUM(total_payment) AS Total_received_amount\n",
    "FROM fin_loan\n",
    "WHERE grade = 'A' AND address_state = 'CA'\n",
    "GROUP BY home_ownership\n",
    "ORDER BY Total_Loan_applications DESC;\n",
    "'''\n",
    "\n",
    "ownership_df=pd.read_sql(query,conn)\n",
    "ownership_df"
   ]
  },
  {
   "cell_type": "markdown",
   "metadata": {},
   "source": []
  }
 ],
 "metadata": {
  "kernelspec": {
   "display_name": "pydata-book",
   "language": "python",
   "name": "python3"
  },
  "language_info": {
   "codemirror_mode": {
    "name": "ipython",
    "version": 3
   },
   "file_extension": ".py",
   "mimetype": "text/x-python",
   "name": "python",
   "nbconvert_exporter": "python",
   "pygments_lexer": "ipython3",
   "version": "3.12.3"
  }
 },
 "nbformat": 4,
 "nbformat_minor": 2
}
